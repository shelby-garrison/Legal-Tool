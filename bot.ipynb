{
 "cells": [
  {
   "cell_type": "code",
   "execution_count": null,
   "id": "c0fa7d1c",
   "metadata": {},
   "outputs": [
    {
     "name": "stdout",
     "output_type": "stream",
     "text": [
      "Requirement already satisfied: langchain_community in c:\\users\\prani\\appdata\\local\\programs\\python\\python310\\lib\\site-packages (0.3.29)\n",
      "Requirement already satisfied: groq in c:\\users\\prani\\appdata\\local\\programs\\python\\python310\\lib\\site-packages (0.25.0)\n",
      "Requirement already satisfied: faiss-cpu in c:\\users\\prani\\appdata\\local\\programs\\python\\python310\\lib\\site-packages (1.12.0)\n",
      "Requirement already satisfied: sentence-transformers in c:\\users\\prani\\appdata\\local\\programs\\python\\python310\\lib\\site-packages (5.1.0)\n",
      "Requirement already satisfied: pypdf in c:\\users\\prani\\appdata\\local\\programs\\python\\python310\\lib\\site-packages (6.0.0)\n",
      "Requirement already satisfied: langchain_huggingface in c:\\users\\prani\\appdata\\local\\programs\\python\\python310\\lib\\site-packages (0.3.1)\n",
      "Requirement already satisfied: pydantic-settings<3.0.0,>=2.10.1 in c:\\users\\prani\\appdata\\local\\programs\\python\\python310\\lib\\site-packages (from langchain_community) (2.10.1)\n",
      "Requirement already satisfied: langchain<2.0.0,>=0.3.27 in c:\\users\\prani\\appdata\\local\\programs\\python\\python310\\lib\\site-packages (from langchain_community) (0.3.27)\n",
      "Requirement already satisfied: langsmith>=0.1.125 in c:\\users\\prani\\appdata\\local\\programs\\python\\python310\\lib\\site-packages (from langchain_community) (0.3.45)\n",
      "Requirement already satisfied: httpx-sse<1.0.0,>=0.4.0 in c:\\users\\prani\\appdata\\local\\programs\\python\\python310\\lib\\site-packages (from langchain_community) (0.4.1)\n",
      "Requirement already satisfied: requests<3,>=2.32.5 in c:\\users\\prani\\appdata\\local\\programs\\python\\python310\\lib\\site-packages (from langchain_community) (2.32.5)\n",
      "Requirement already satisfied: numpy>=1.26.2 in c:\\users\\prani\\appdata\\local\\programs\\python\\python310\\lib\\site-packages (from langchain_community) (1.26.4)\n",
      "Requirement already satisfied: SQLAlchemy<3,>=1.4 in c:\\users\\prani\\appdata\\local\\programs\\python\\python310\\lib\\site-packages (from langchain_community) (2.0.41)\n",
      "Requirement already satisfied: aiohttp<4.0.0,>=3.8.3 in c:\\users\\prani\\appdata\\local\\programs\\python\\python310\\lib\\site-packages (from langchain_community) (3.11.18)\n",
      "Requirement already satisfied: dataclasses-json<0.7,>=0.6.7 in c:\\users\\prani\\appdata\\local\\programs\\python\\python310\\lib\\site-packages (from langchain_community) (0.6.7)\n",
      "Requirement already satisfied: langchain-core<2.0.0,>=0.3.75 in c:\\users\\prani\\appdata\\local\\programs\\python\\python310\\lib\\site-packages (from langchain_community) (0.3.75)\n",
      "Requirement already satisfied: tenacity!=8.4.0,<10,>=8.1.0 in c:\\users\\prani\\appdata\\local\\programs\\python\\python310\\lib\\site-packages (from langchain_community) (9.1.2)\n",
      "Requirement already satisfied: PyYAML>=5.3 in c:\\users\\prani\\appdata\\local\\programs\\python\\python310\\lib\\site-packages (from langchain_community) (6.0.2)\n",
      "Requirement already satisfied: distro<2,>=1.7.0 in c:\\users\\prani\\appdata\\local\\programs\\python\\python310\\lib\\site-packages (from groq) (1.9.0)\n",
      "Requirement already satisfied: typing-extensions<5,>=4.10 in c:\\users\\prani\\appdata\\local\\programs\\python\\python310\\lib\\site-packages (from groq) (4.13.1)\n",
      "Requirement already satisfied: pydantic<3,>=1.9.0 in c:\\users\\prani\\appdata\\local\\programs\\python\\python310\\lib\\site-packages (from groq) (2.11.5)\n",
      "Requirement already satisfied: sniffio in c:\\users\\prani\\appdata\\local\\programs\\python\\python310\\lib\\site-packages (from groq) (1.3.1)\n",
      "Requirement already satisfied: anyio<5,>=3.5.0 in c:\\users\\prani\\appdata\\local\\programs\\python\\python310\\lib\\site-packages (from groq) (3.7.1)\n",
      "Requirement already satisfied: httpx<1,>=0.23.0 in c:\\users\\prani\\appdata\\local\\programs\\python\\python310\\lib\\site-packages (from groq) (0.28.1)\n",
      "Requirement already satisfied: packaging in c:\\users\\prani\\appdata\\local\\programs\\python\\python310\\lib\\site-packages (from faiss-cpu) (24.2)\n",
      "Requirement already satisfied: torch>=1.11.0 in c:\\users\\prani\\appdata\\local\\programs\\python\\python310\\lib\\site-packages (from sentence-transformers) (2.7.0)\n",
      "Requirement already satisfied: transformers<5.0.0,>=4.41.0 in c:\\users\\prani\\appdata\\local\\programs\\python\\python310\\lib\\site-packages (from sentence-transformers) (4.52.4)\n",
      "Requirement already satisfied: tqdm in c:\\users\\prani\\appdata\\local\\programs\\python\\python310\\lib\\site-packages (from sentence-transformers) (4.67.1)\n",
      "Requirement already satisfied: scikit-learn in c:\\users\\prani\\appdata\\local\\programs\\python\\python310\\lib\\site-packages (from sentence-transformers) (1.5.1)\n",
      "Requirement already satisfied: huggingface-hub>=0.20.0 in c:\\users\\prani\\appdata\\local\\programs\\python\\python310\\lib\\site-packages (from sentence-transformers) (0.34.4)\n",
      "Requirement already satisfied: scipy in c:\\users\\prani\\appdata\\local\\programs\\python\\python310\\lib\\site-packages (from sentence-transformers) (1.15.3)\n",
      "Requirement already satisfied: Pillow in c:\\users\\prani\\appdata\\local\\programs\\python\\python310\\lib\\site-packages (from sentence-transformers) (11.2.1)\n",
      "Requirement already satisfied: tokenizers>=0.19.1 in c:\\users\\prani\\appdata\\local\\programs\\python\\python310\\lib\\site-packages (from langchain_huggingface) (0.21.1)\n",
      "Requirement already satisfied: yarl<2.0,>=1.17.0 in c:\\users\\prani\\appdata\\local\\programs\\python\\python310\\lib\\site-packages (from aiohttp<4.0.0,>=3.8.3->langchain_community) (1.20.0)\n",
      "Requirement already satisfied: async-timeout<6.0,>=4.0 in c:\\users\\prani\\appdata\\local\\programs\\python\\python310\\lib\\site-packages (from aiohttp<4.0.0,>=3.8.3->langchain_community) (4.0.3)\n",
      "Requirement already satisfied: frozenlist>=1.1.1 in c:\\users\\prani\\appdata\\local\\programs\\python\\python310\\lib\\site-packages (from aiohttp<4.0.0,>=3.8.3->langchain_community) (1.6.0)\n",
      "Requirement already satisfied: multidict<7.0,>=4.5 in c:\\users\\prani\\appdata\\local\\programs\\python\\python310\\lib\\site-packages (from aiohttp<4.0.0,>=3.8.3->langchain_community) (6.4.3)\n",
      "Requirement already satisfied: aiohappyeyeballs>=2.3.0 in c:\\users\\prani\\appdata\\local\\programs\\python\\python310\\lib\\site-packages (from aiohttp<4.0.0,>=3.8.3->langchain_community) (2.6.1)\n",
      "Requirement already satisfied: attrs>=17.3.0 in c:\\users\\prani\\appdata\\local\\programs\\python\\python310\\lib\\site-packages (from aiohttp<4.0.0,>=3.8.3->langchain_community) (25.3.0)\n",
      "Requirement already satisfied: propcache>=0.2.0 in c:\\users\\prani\\appdata\\local\\programs\\python\\python310\\lib\\site-packages (from aiohttp<4.0.0,>=3.8.3->langchain_community) (0.3.1)\n",
      "Requirement already satisfied: aiosignal>=1.1.2 in c:\\users\\prani\\appdata\\local\\programs\\python\\python310\\lib\\site-packages (from aiohttp<4.0.0,>=3.8.3->langchain_community) (1.3.2)\n",
      "Requirement already satisfied: idna>=2.8 in c:\\users\\prani\\appdata\\local\\programs\\python\\python310\\lib\\site-packages (from anyio<5,>=3.5.0->groq) (3.10)\n",
      "Requirement already satisfied: exceptiongroup in c:\\users\\prani\\appdata\\local\\programs\\python\\python310\\lib\\site-packages (from anyio<5,>=3.5.0->groq) (1.2.2)\n",
      "Requirement already satisfied: marshmallow<4.0.0,>=3.18.0 in c:\\users\\prani\\appdata\\local\\programs\\python\\python310\\lib\\site-packages (from dataclasses-json<0.7,>=0.6.7->langchain_community) (3.26.1)\n",
      "Requirement already satisfied: typing-inspect<1,>=0.4.0 in c:\\users\\prani\\appdata\\local\\programs\\python\\python310\\lib\\site-packages (from dataclasses-json<0.7,>=0.6.7->langchain_community) (0.9.0)\n",
      "Requirement already satisfied: httpcore==1.* in c:\\users\\prani\\appdata\\local\\programs\\python\\python310\\lib\\site-packages (from httpx<1,>=0.23.0->groq) (1.0.7)\n",
      "Requirement already satisfied: certifi in c:\\users\\prani\\appdata\\local\\programs\\python\\python310\\lib\\site-packages (from httpx<1,>=0.23.0->groq) (2025.1.31)\n",
      "Requirement already satisfied: h11<0.15,>=0.13 in c:\\users\\prani\\appdata\\local\\programs\\python\\python310\\lib\\site-packages (from httpcore==1.*->httpx<1,>=0.23.0->groq) (0.14.0)\n",
      "Requirement already satisfied: filelock in c:\\users\\prani\\appdata\\local\\programs\\python\\python310\\lib\\site-packages (from huggingface-hub>=0.20.0->sentence-transformers) (3.18.0)\n",
      "Requirement already satisfied: fsspec>=2023.5.0 in c:\\users\\prani\\appdata\\local\\programs\\python\\python310\\lib\\site-packages (from huggingface-hub>=0.20.0->sentence-transformers) (2025.3.2)\n",
      "Requirement already satisfied: langchain-text-splitters<1.0.0,>=0.3.9 in c:\\users\\prani\\appdata\\local\\programs\\python\\python310\\lib\\site-packages (from langchain<2.0.0,>=0.3.27->langchain_community) (0.3.11)\n",
      "Requirement already satisfied: jsonpatch<2.0,>=1.33 in c:\\users\\prani\\appdata\\local\\programs\\python\\python310\\lib\\site-packages (from langchain-core<2.0.0,>=0.3.75->langchain_community) (1.33)\n",
      "Requirement already satisfied: zstandard<0.24.0,>=0.23.0 in c:\\users\\prani\\appdata\\local\\programs\\python\\python310\\lib\\site-packages (from langsmith>=0.1.125->langchain_community) (0.23.0)\n",
      "Requirement already satisfied: orjson<4.0.0,>=3.9.14 in c:\\users\\prani\\appdata\\local\\programs\\python\\python310\\lib\\site-packages (from langsmith>=0.1.125->langchain_community) (3.10.18)\n",
      "Requirement already satisfied: requests-toolbelt<2.0.0,>=1.0.0 in c:\\users\\prani\\appdata\\local\\programs\\python\\python310\\lib\\site-packages (from langsmith>=0.1.125->langchain_community) (1.0.0)\n",
      "Requirement already satisfied: annotated-types>=0.6.0 in c:\\users\\prani\\appdata\\local\\programs\\python\\python310\\lib\\site-packages (from pydantic<3,>=1.9.0->groq) (0.7.0)\n",
      "Requirement already satisfied: pydantic-core==2.33.2 in c:\\users\\prani\\appdata\\local\\programs\\python\\python310\\lib\\site-packages (from pydantic<3,>=1.9.0->groq) (2.33.2)\n",
      "Requirement already satisfied: typing-inspection>=0.4.0 in c:\\users\\prani\\appdata\\local\\programs\\python\\python310\\lib\\site-packages (from pydantic<3,>=1.9.0->groq) (0.4.0)\n",
      "Requirement already satisfied: python-dotenv>=0.21.0 in c:\\users\\prani\\appdata\\local\\programs\\python\\python310\\lib\\site-packages (from pydantic-settings<3.0.0,>=2.10.1->langchain_community) (1.0.1)\n",
      "Requirement already satisfied: charset_normalizer<4,>=2 in c:\\users\\prani\\appdata\\local\\programs\\python\\python310\\lib\\site-packages (from requests<3,>=2.32.5->langchain_community) (3.4.1)\n",
      "Requirement already satisfied: urllib3<3,>=1.21.1 in c:\\users\\prani\\appdata\\local\\programs\\python\\python310\\lib\\site-packages (from requests<3,>=2.32.5->langchain_community) (2.3.0)\n",
      "Requirement already satisfied: greenlet>=1 in c:\\users\\prani\\appdata\\local\\programs\\python\\python310\\lib\\site-packages (from SQLAlchemy<3,>=1.4->langchain_community) (3.2.3)\n",
      "Requirement already satisfied: sympy>=1.13.3 in c:\\users\\prani\\appdata\\local\\programs\\python\\python310\\lib\\site-packages (from torch>=1.11.0->sentence-transformers) (1.14.0)\n",
      "Requirement already satisfied: networkx in c:\\users\\prani\\appdata\\local\\programs\\python\\python310\\lib\\site-packages (from torch>=1.11.0->sentence-transformers) (3.4.2)\n",
      "Requirement already satisfied: jinja2 in c:\\users\\prani\\appdata\\local\\programs\\python\\python310\\lib\\site-packages (from torch>=1.11.0->sentence-transformers) (3.1.6)\n",
      "Requirement already satisfied: colorama in c:\\users\\prani\\appdata\\local\\programs\\python\\python310\\lib\\site-packages (from tqdm->sentence-transformers) (0.4.6)\n",
      "Requirement already satisfied: regex!=2019.12.17 in c:\\users\\prani\\appdata\\local\\programs\\python\\python310\\lib\\site-packages (from transformers<5.0.0,>=4.41.0->sentence-transformers) (2024.11.6)\n",
      "Requirement already satisfied: safetensors>=0.4.3 in c:\\users\\prani\\appdata\\local\\programs\\python\\python310\\lib\\site-packages (from transformers<5.0.0,>=4.41.0->sentence-transformers) (0.5.3)\n",
      "Requirement already satisfied: threadpoolctl>=3.1.0 in c:\\users\\prani\\appdata\\local\\programs\\python\\python310\\lib\\site-packages (from scikit-learn->sentence-transformers) (3.6.0)\n",
      "Requirement already satisfied: joblib>=1.2.0 in c:\\users\\prani\\appdata\\local\\programs\\python\\python310\\lib\\site-packages (from scikit-learn->sentence-transformers) (1.4.2)\n",
      "Requirement already satisfied: jsonpointer>=1.9 in c:\\users\\prani\\appdata\\local\\programs\\python\\python310\\lib\\site-packages (from jsonpatch<2.0,>=1.33->langchain-core<2.0.0,>=0.3.75->langchain_community) (3.0.0)\n",
      "Requirement already satisfied: mpmath<1.4,>=1.1.0 in c:\\users\\prani\\appdata\\local\\programs\\python\\python310\\lib\\site-packages (from sympy>=1.13.3->torch>=1.11.0->sentence-transformers) (1.3.0)\n",
      "Requirement already satisfied: mypy-extensions>=0.3.0 in c:\\users\\prani\\appdata\\local\\programs\\python\\python310\\lib\\site-packages (from typing-inspect<1,>=0.4.0->dataclasses-json<0.7,>=0.6.7->langchain_community) (1.1.0)\n",
      "Requirement already satisfied: MarkupSafe>=2.0 in c:\\users\\prani\\appdata\\local\\programs\\python\\python310\\lib\\site-packages (from jinja2->torch>=1.11.0->sentence-transformers) (3.0.2)\n"
     ]
    },
    {
     "name": "stderr",
     "output_type": "stream",
     "text": [
      "\n",
      "[notice] A new release of pip available: 22.2.2 -> 25.2\n",
      "[notice] To update, run: python.exe -m pip install --upgrade pip\n"
     ]
    }
   ],
   "source": [
    "%pip install langchain_community groq faiss-cpu sentence-transformers pypdf langchain_huggingface\n"
   ]
  },
  {
   "cell_type": "code",
   "execution_count": 61,
   "id": "31e0942b",
   "metadata": {},
   "outputs": [
    {
     "data": {
      "text/plain": [
       "26"
      ]
     },
     "execution_count": 61,
     "metadata": {},
     "output_type": "execute_result"
    }
   ],
   "source": [
    "from langchain_community.document_loaders import PyPDFLoader\n",
    "from langchain_core.documents import Document\n",
    "\n",
    "loader = PyPDFLoader(\"doc.pdf\")\n",
    "docs = loader.load()\n",
    "\n",
    "len(docs)  "
   ]
  },
  {
   "cell_type": "code",
   "execution_count": 62,
   "id": "4aff28c2",
   "metadata": {},
   "outputs": [
    {
     "data": {
      "text/plain": [
       "56"
      ]
     },
     "execution_count": 62,
     "metadata": {},
     "output_type": "execute_result"
    }
   ],
   "source": [
    "from langchain.text_splitter import RecursiveCharacterTextSplitter\n",
    "\n",
    "text_splitter = RecursiveCharacterTextSplitter(chunk_size=1000, chunk_overlap=20)\n",
    "chunks = text_splitter.split_documents(docs)\n",
    "len(chunks)  "
   ]
  },
  {
   "cell_type": "code",
   "execution_count": 63,
   "id": "57376e48",
   "metadata": {},
   "outputs": [
    {
     "data": {
      "text/plain": [
       "[Document(metadata={'producer': 'Aspose.PDF for .NET 19.8', 'creator': 'Aspose Ltd.', 'creationdate': '', 'moddate': '2023-04-06T10:11:19-04:00', 'source': 'doc.pdf', 'total_pages': 26, 'page': 0, 'page_label': '1'}, page_content='UNITED STATES DISTRICT COURT \\nNORTHERN DISTRICT OF TEXAS \\nAMARILLO DIVISION \\n \\nALLIANCE FOR HIPPOCRATIC \\nMEDICINE, et al., \\n  \\n   \\n Plaintiffs,   \\n   \\n v.  Case No. 2:22-cv-00223-Z \\n   \\nU.S. FOOD AND DRUG \\nADMINISTRATION, et al., \\n  \\n   \\n Defendants. \\n \\n  \\n \\n \\nAMICUS CURIAE BRIEF OF MISSISSIPPI, ALABAMA, ALASKA, \\nARKANSAS, FLORIDA, GEORGIA, IDAHO, INDIANA, IOWA, KANSAS, \\nKENTUCKY, LOUISIANA, MONTANA, NEBRASKA, OHIO, OKLAHOMA, \\nSOUTH CAROLINA, SOUTH DAKOTA, TENNESSEE, TEXAS, UTAH, AND \\nWYOMING IN SUPPORT OF PLAINTIFFS’ MOTION  \\nFOR PRELIMINARY INJUNCTION \\n \\n \\n \\nCase 2:22-cv-00223-Z   Document 100   Filed 02/13/23    Page 1 of 26   PageID 3760'),\n",
       " Document(metadata={'producer': 'Aspose.PDF for .NET 19.8', 'creator': 'Aspose Ltd.', 'creationdate': '', 'moddate': '2023-04-06T10:11:19-04:00', 'source': 'doc.pdf', 'total_pages': 26, 'page': 1, 'page_label': '2'}, page_content='i \\n \\n \\nTABLE OF CONTENTS \\nPage \\nTABLE OF AUTHORITIES .......................................................................................... ii \\nINTRODUCTION, INTEREST OF AMICI CURIAE, \\nAND SUMMARY OF ARGUMENT .............................................................................. 1 \\nBACKGROUND ............................................................................................................. 4 \\nARGUMENT .................................................................................................................. 7 \\nThe Public Interest And Equities Support Injunctive Relief Against The FDA’s \\nActions On Mifepristone ........................................................................................ 7 \\nA. The Public Interest And Equities Weigh Strongly Against The FDA’s Actions \\nBecause Those Actions Defy Federal Law ....................................................... 8 \\nB. The FDA’s Actions  Undermine The Public -Interest Determinations That'),\n",
       " Document(metadata={'producer': 'Aspose.PDF for .NET 19.8', 'creator': 'Aspose Ltd.', 'creationdate': '', 'moddate': '2023-04-06T10:11:19-04:00', 'source': 'doc.pdf', 'total_pages': 26, 'page': 1, 'page_label': '2'}, page_content='States—Not Federal Agencies—Are Entitled To Make ................................ 11 \\nC. The FDA’s Actions Harm The Public Interest By Undermining States’ Ability \\nTo Protect Their Citizens And Forcing States To Divert Scarce Resources To \\nInvestigating And Prosecuting Violations Of Their Laws ............................ 14 \\nCONCLUSION ............................................................................................................. 18 \\n \\n  \\nCase 2:22-cv-00223-Z   Document 100   Filed 02/13/23    Page 2 of 26   PageID 3761'),\n",
       " Document(metadata={'producer': 'Aspose.PDF for .NET 19.8', 'creator': 'Aspose Ltd.', 'creationdate': '', 'moddate': '2023-04-06T10:11:19-04:00', 'source': 'doc.pdf', 'total_pages': 26, 'page': 2, 'page_label': '3'}, page_content='ii \\n \\nTABLE OF AUTHORITIES \\nPage(s) \\nCases \\nDobbs v. Jackson Women’s Health Organization, \\n142 S. Ct. 2228 (2022) ............................................................ 1, 2, 11, 12, 13, 14, 17  \\nGonzales v. Oregon,  \\n546 U.S. 243 (2006) ................................................................................................ 12 \\nHillsborough Cnty., Fla. v. Automated Med. Laboratories, Inc.,  \\n471 U.S. 707 (1985) ................................................................................................ 12 \\nMaine v. Taylor,  \\n477 U.S. 131 (1986) ................................................................................................ 16 \\nMetro. Life Ins. Co. v. Massachusetts,  \\n471 U.S. 724 (1985) .......................................................................................... 12, 15 \\nRice v. Santa Fe Elevator Corp.,  \\n331 U.S. 218 (1947) ................................................................................................ 15'),\n",
       " Document(metadata={'producer': 'Aspose.PDF for .NET 19.8', 'creator': 'Aspose Ltd.', 'creationdate': '', 'moddate': '2023-04-06T10:11:19-04:00', 'source': 'doc.pdf', 'total_pages': 26, 'page': 2, 'page_label': '3'}, page_content='Solid Waste Agency of N. Cook Cnty. v. U.S. Army Corps of Engineers,  \\n531 U.S. 159 (2001) ................................................................................................ 15 \\nTexas v. Biden,  \\n10 F.4th 538 (5th Cir. 2021) ............................................................................... 8, 11 \\nTexas v. United States,  \\n787 F.3d 733 (5th Cir. 2015) ............................................................................. 16-17 \\nValley v. Rapides Parish Sch. Bd., \\n118 F.3d 1047 (5th Cir. 1997) ............................................................................ 8, 11 \\nWages & White Lion Invs., LLC v. FDA,  \\n16 F.4th 1130 (5th Cir. 2021) ................................................................................... 8 \\nConstitutional Provision \\nU.S. Const. amend. X ................................................................................................... 14'),\n",
       " Document(metadata={'producer': 'Aspose.PDF for .NET 19.8', 'creator': 'Aspose Ltd.', 'creationdate': '', 'moddate': '2023-04-06T10:11:19-04:00', 'source': 'doc.pdf', 'total_pages': 26, 'page': 2, 'page_label': '3'}, page_content='Case 2:22-cv-00223-Z   Document 100   Filed 02/13/23    Page 3 of 26   PageID 3762'),\n",
       " Document(metadata={'producer': 'Aspose.PDF for .NET 19.8', 'creator': 'Aspose Ltd.', 'creationdate': '', 'moddate': '2023-04-06T10:11:19-04:00', 'source': 'doc.pdf', 'total_pages': 26, 'page': 3, 'page_label': '4'}, page_content='iii \\n \\nStatutes \\n18 U.S.C. § 1461 ............................................................................................... 10, 11, 14 \\n18 U.S.C. § 1462 ..................................................................................................... 10, 11 \\n21 U.S.C. § 321 ............................................................................................................... 4 \\n21 U.S.C. § 355 ............................................................................................................... 4 \\n21 U.S.C. § 355-1............................................................................................................ 5 \\n21 U.S.C. § 393 ............................................................................................................... 4 \\nFood and Drug Administration Amendments Act,  \\nPub. L. No. 110-85, 121 Stat. 823 (2007) ............................................................. 5, 9'),\n",
       " Document(metadata={'producer': 'Aspose.PDF for .NET 19.8', 'creator': 'Aspose Ltd.', 'creationdate': '', 'moddate': '2023-04-06T10:11:19-04:00', 'source': 'doc.pdf', 'total_pages': 26, 'page': 3, 'page_label': '4'}, page_content='Ind. Code Ann. § 16-34-2-1 .......................................................................................... 13 \\nLa. Stat. Ann. § 40:1061.11 ......................................................................................... 13 \\nMiss. Code Ann. § 41-41-45 ................................................................................... 12, 13 \\nMiss. Code Ann. § 41-41-103 ....................................................................................... 13 \\nMiss. Code Ann. § 41-41-107 ....................................................................................... 13 \\nOkla. Stat. Ann. tit. 63, § 1-729.1 ............................................................................... 13 \\nPub. L. No. 91-662, 84 Stat. 1973 (1971) .................................................................... 10 \\nTex. Health & Safety Code Ann. § 171.063 ................................................................ 13 \\nExecutive Order'),\n",
       " Document(metadata={'producer': 'Aspose.PDF for .NET 19.8', 'creator': 'Aspose Ltd.', 'creationdate': '', 'moddate': '2023-04-06T10:11:19-04:00', 'source': 'doc.pdf', 'total_pages': 26, 'page': 3, 'page_label': '4'}, page_content='Executive Order \\nProtecting Access to Reproductive Healthcare Services, \\nExec. Order No. 14076,  \\n87 Fed. Reg. 42053 (2022) .................................................................................. 2, 11 \\nRegulations  \\n21 C.F.R. § 314.2 ..................................................................................................... 13-14 \\n21 C.F.R. § 314.500 ............................................................................... 4, 8, 9, 10, 13-14 \\nCase 2:22-cv-00223-Z   Document 100   Filed 02/13/23    Page 4 of 26   PageID 3763'),\n",
       " Document(metadata={'producer': 'Aspose.PDF for .NET 19.8', 'creator': 'Aspose Ltd.', 'creationdate': '', 'moddate': '2023-04-06T10:11:19-04:00', 'source': 'doc.pdf', 'total_pages': 26, 'page': 4, 'page_label': '5'}, page_content='iv \\n \\n21 C.F.R. § 314.520 ........................................................................................................ 4 \\n21 C.F.R. §§ 314.500-314.560 ........................................................................................ 5 \\nRulemaking \\nNew Drug, Antibiotic, and Biological Drug Product Regulations;  \\nAccelerated Approval,  \\n57 Fed. Reg. 58942 (Dec. 11, 1992) .......................................................................... 9  \\nOther Authorities \\nAbortion Pills Can Now Be Offered at Retail Pharmacies, F.D.A. Says,  \\nN.Y. Times (Jan. 3, 2023) ....................................................................................... 16 \\nFact Sheet: President Biden Announces Actions In Light of  \\nToday’s Supreme Court Decision on Dobbs v. Jackson  \\nWomen’s Health Organization,  \\nThe White House (June 24, 2022) ............................................................................ 2 \\nFact Sheet: President Biden to Sign Presidential Memorandum'),\n",
       " Document(metadata={'producer': 'Aspose.PDF for .NET 19.8', 'creator': 'Aspose Ltd.', 'creationdate': '', 'moddate': '2023-04-06T10:11:19-04:00', 'source': 'doc.pdf', 'total_pages': 26, 'page': 4, 'page_label': '5'}, page_content='on Ensuring Safe Access to Medication Abortion,  \\nThe White House (Jan. 22, 2023) ............................................................................. 2 \\nH.R. 13959, 95th Cong. (1978) .................................................................................... 10 \\nH.R. Rep. No. 29 (1979) ............................................................................................... 10 \\nMemorandum on Further Efforts to Protect Access to \\nReproductive Healthcare Services,  \\nThe White House (Jan. 22, 2023) ................................................................. 2, 15, 17 \\nNIH, Nat’l Library of Medicine ..................................................................................... 4 \\nRemarks of President Joe Biden—State of the Union Address  \\nas Prepared for Delivery,  \\nThe White House (Feb. 7, 2023) ............................................................................. 17 \\nRetail Pharmacies Can Now Offer Abortion Pill, FDA Says,'),\n",
       " Document(metadata={'producer': 'Aspose.PDF for .NET 19.8', 'creator': 'Aspose Ltd.', 'creationdate': '', 'moddate': '2023-04-06T10:11:19-04:00', 'source': 'doc.pdf', 'total_pages': 26, 'page': 4, 'page_label': '5'}, page_content='Politico (Jan. 3, 2023) ............................................................................................. 16 \\nU.S. Food & Drug Admin.,  \\nInformation about Mifepristone for Medical Termination of  \\nPregnancy Through Ten Weeks Gestation ........................................................... 6-7 \\nCase 2:22-cv-00223-Z   Document 100   Filed 02/13/23    Page 5 of 26   PageID 3764'),\n",
       " Document(metadata={'producer': 'Aspose.PDF for .NET 19.8', 'creator': 'Aspose Ltd.', 'creationdate': '', 'moddate': '2023-04-06T10:11:19-04:00', 'source': 'doc.pdf', 'total_pages': 26, 'page': 5, 'page_label': '6'}, page_content='v \\n \\nU.S. Food & Drug Admin.,  \\nRisk Evaluation and Mitigation Strategies ............................................................. 5 \\n \\n \\n  \\nCase 2:22-cv-00223-Z   Document 100   Filed 02/13/23    Page 6 of 26   PageID 3765'),\n",
       " Document(metadata={'producer': 'Aspose.PDF for .NET 19.8', 'creator': 'Aspose Ltd.', 'creationdate': '', 'moddate': '2023-04-06T10:11:19-04:00', 'source': 'doc.pdf', 'total_pages': 26, 'page': 6, 'page_label': '7'}, page_content='1 \\n \\nINTRODUCTION, INTEREST OF AMICI CURIAE,  \\nAND SUMMARY OF ARGUMENT \\nLast year, the Supreme Court held that abortion is a matter that is entrusted \\nto “the people and their elected representatives” to address. Dobbs v. Jackson \\nWomen’s Health Organization , 142 S. Ct. 2228, 2284 (2022). Overruling precedent \\nthat took that auth ority away from the people, the Court returned the issue of \\n“regulating or prohibiting abortion” to “the citizens of each State.” Ibid.  States may \\nthus pursue their “legitimate interests” in protecting unborn life, women’s health, \\nand the medical profession’s integrity by regulating or restricting abortion. Ibid. \\nAmici curiae are the States of Mississippi, Alabama, Alaska, Arkansas, \\nFlorida, Georgia, Idaho, Indiana, Iowa, Kansas, Kentucky, Louisiana, Montana, \\nNebraska, Ohio, Oklahoma, South Carolina, South Dakota, Tennessee, Texas, Utah, \\nand Wyoming. Like other States, amici have, consistent with the Constitution and'),\n",
       " Document(metadata={'producer': 'Aspose.PDF for .NET 19.8', 'creator': 'Aspose Ltd.', 'creationdate': '', 'moddate': '2023-04-06T10:11:19-04:00', 'source': 'doc.pdf', 'total_pages': 26, 'page': 6, 'page_label': '7'}, page_content='the Supreme Court’s decision in Dobbs, adopted laws regulating abortion—including \\nchemical abortion. Those laws strike  a balance among the competing interests, are \\nthe results of hard-fought democratic processes, and embody the considered \\njudgments of “the people and their elected representatives.” Ibid.  Some States have \\nchosen to adopt or maintain tighter restrictions and more thorough regulations on \\nabortion after Dobbs. Other States have continued  or embraced more permissive \\nregimes. All States have provisions in their abortion laws to protect a woman’s life  \\nand commonly include exceptions in other circumstances. These choices reflect the \\napproach the Constitution envisions for addressing complex issues that require \\n“legislative bodies” to “draw lines that accommodate competing interests.” Id. at 2268. \\nCase 2:22-cv-00223-Z   Document 100   Filed 02/13/23    Page 7 of 26   PageID 3766'),\n",
       " Document(metadata={'producer': 'Aspose.PDF for .NET 19.8', 'creator': 'Aspose Ltd.', 'creationdate': '', 'moddate': '2023-04-06T10:11:19-04:00', 'source': 'doc.pdf', 'total_pages': 26, 'page': 7, 'page_label': '8'}, page_content='2 \\n \\nRather than respect the Constitution, the Supreme Court, and the democratic \\nprocess, the Biden Administration has attacked and worked to undermine the \\nconsidered judgments  of the elected representatives of States like amici. The \\nAdministration’s actions on  abortion drugs typify that effort.  The day Do bbs was \\ndecided, President Biden directed his Administration to ensure that abortion drugs \\nare “as widely accessible as possible ,” including “through telehealth and sent by \\nmail.” Fact Sheet: President Biden Announces Actions In Light of Today’s Supreme \\nCourt Decision on Dobbs v. Jackson Women’s Health Organization, The White House \\n(June 24, 2022), http://bit.ly/3DqTmwd. The President soon signed an executive order \\nlamenting States’ regulation of abortion and directing federal agencies to “expand \\naccess to abortion care, including medication abortion.” Protecting Access to \\nReproductive Healthcare Services, Exec. Order No. 14076, 87 Fed. Reg. 42053, 42053'),\n",
       " Document(metadata={'producer': 'Aspose.PDF for .NET 19.8', 'creator': 'Aspose Ltd.', 'creationdate': '', 'moddate': '2023-04-06T10:11:19-04:00', 'source': 'doc.pdf', 'total_pages': 26, 'page': 7, 'page_label': '8'}, page_content='(2022). Just weeks ago,  President Biden signed a memorandum spotlighting his \\nAdministration’s efforts to “evaluat[e] and monitor[  ]” state laws “ that threaten to \\ninfringe” on purported “Federal legal protections [for abortion ].” Memorandum on \\nFurther Efforts to Protect Access to Reproductive Healthcare Services, The White \\nHouse (Jan. 22, 2023), http://bit.ly/3kEZrPl. He also expressed his intent to promote \\naccess to abortion drugs for patients and providers “no matter where they live.” Fact \\nSheet: President Biden to Sign Presidential Memorandum on Ensuring Safe Access \\nto Medication Abortion, The White House (Jan. 22, 2023), http://bit.ly/3I160Vn. \\nAlthough the Biden Administration has, following Dobbs, doubled down on its \\nefforts to impose on the country an elective-abortion policy that it could never achieve \\nthrough the democratic process, that goal is not new—especially with abortion drugs.'),\n",
       " Document(metadata={'producer': 'Aspose.PDF for .NET 19.8', 'creator': 'Aspose Ltd.', 'creationdate': '', 'moddate': '2023-04-06T10:11:19-04:00', 'source': 'doc.pdf', 'total_pages': 26, 'page': 7, 'page_label': '8'}, page_content='Case 2:22-cv-00223-Z   Document 100   Filed 02/13/23    Page 8 of 26   PageID 3767'),\n",
       " Document(metadata={'producer': 'Aspose.PDF for .NET 19.8', 'creator': 'Aspose Ltd.', 'creationdate': '', 'moddate': '2023-04-06T10:11:19-04:00', 'source': 'doc.pdf', 'total_pages': 26, 'page': 8, 'page_label': '9'}, page_content='3 \\n \\nFor two decades, the U.S. Food and Drug Administration has acted to establish a \\nnationwide regime of on -demand abortion by licensing sweeping access to chemical \\nabortion drugs —in defiance of federal and state laws protecting life, health, and \\nsafety. See Pls.’ Mot. 2 -6, Dkt. 7. I n 2000, the FDA  purported to approve the  drug \\nmifepristone for chemically induced abortions through  49 days of pregnancy. That \\napproval had basic legal problems of its own, but it did include safety measures to \\naccount for mifepristone’s serious risks to life and health. Yet over time the FDA has \\ncast even those measures aside. In 2016, the FDA  rolled back many safety \\nrequirements—allowing mifepristone to be prescribed later in pregnancy, by non -\\ndoctors, and with only one in-person visit. In 2021, the agency halted  the remaining \\nin-person dispensing requirement s during the COVID -19 pandemic and later \\nabandoned the requirements altogether. After decades of such efforts, the FDA now'),\n",
       " Document(metadata={'producer': 'Aspose.PDF for .NET 19.8', 'creator': 'Aspose Ltd.', 'creationdate': '', 'moddate': '2023-04-06T10:11:19-04:00', 'source': 'doc.pdf', 'total_pages': 26, 'page': 8, 'page_label': '9'}, page_content='broadly condones a wide-ranging mail-order abortion-drug regime. Plaintiffs here \\nhave moved to preliminarily enjoin and set aside the FDA’s actions. \\nThis brief explains why the public interest and equities strongly support relief \\nagainst the FDA’s actions. First, the FDA ’s actions contravene feder al law  and so \\ndisserve the public interest. Second, the FDA ’s actions defy  the public -interest \\ndeterminations made by the amici States , which are entrusted with balancing the \\npolicy and equitable considerations in this area. Last, the FDA’s actions threaten to \\nundermine the amici States’ enforcement of duly enacted laws and thus undercut the \\npublic interest that those laws promote. For these reasons, i njunctive relief against \\nthe FDA’s actions would promote the public interest. \\nCase 2:22-cv-00223-Z   Document 100   Filed 02/13/23    Page 9 of 26   PageID 3768'),\n",
       " Document(metadata={'producer': 'Aspose.PDF for .NET 19.8', 'creator': 'Aspose Ltd.', 'creationdate': '', 'moddate': '2023-04-06T10:11:19-04:00', 'source': 'doc.pdf', 'total_pages': 26, 'page': 9, 'page_label': '10'}, page_content='4 \\n \\nBACKGROUND \\nThe Federal Food , Drug, and Cosmetic Act  directs the U.S. Food and Drug \\nAdministration to “protect the public health by ensuring that ...  human and \\nveterinary drugs are safe and effective.” 21 U.S.C. § 393(b)(2)(B). Under the Act, the \\nFDA is responsible for approving any “new drug” before it is marketed and distributed \\nto the public. Id. § 321(p)(1). The Act bars anyone from “introduc[ing] or deliver[ing] \\nfor introduction into interstate commerce any new drug” without FDA “approval.” Id. \\n§ 355(a). To obtain FDA approval, a new drug must undergo an extensive process  \\nwith rigorous testing. The FDA’s conclusion that a drug is safe and effective must be \\nbased on “substantial evidence” of expert consensus. Id. § 355(d). \\nIn 2000, the FDA approved the marketing and distribution of mifepristone for \\n“the medical termination of intrauterine pregnancy through 49 days’ pregnancy .”'),\n",
       " Document(metadata={'producer': 'Aspose.PDF for .NET 19.8', 'creator': 'Aspose Ltd.', 'creationdate': '', 'moddate': '2023-04-06T10:11:19-04:00', 'source': 'doc.pdf', 'total_pages': 26, 'page': 9, 'page_label': '10'}, page_content='App.518, Dkt. 8. Mifepristone is a synthetic steroid that causes “menstrual bleeding, \\ndisruption of the endometrium [ or uter ine lining ], and then termination” of a \\npregnancy. Mifepristone, NIH, Nat’l Library  of Medicine,  http://bit.ly/403EjSN. \\nMifepristone is generally followed by a dose of misoprostol, which causes the pregnant \\nwoman’s uterus to contract and expel the detached embryo. Id., Misoprostol,  \\nhttp://bit.ly/3DgTpKZ. \\nThe FDA approved mifepristone under Subpart H of the agency’s regulations, \\nwhich implement the agency’s general  authority to approve new drug s that “have \\nbeen studied for their safety and effectiveness in treating serious or life- threatening \\nillnesses,” 21 C.F.R. §  314.500, and “can be safely used only if distribution or use is \\nrestricted,” id. § 314.520. To satisfy Subpart H, the FDA needed to—and did—deem  \\nCase 2:22-cv-00223-Z   Document 100   Filed 02/13/23    Page 10 of 26   PageID 3769'),\n",
       " Document(metadata={'producer': 'Aspose.PDF for .NET 19.8', 'creator': 'Aspose Ltd.', 'creationdate': '', 'moddate': '2023-04-06T10:11:19-04:00', 'source': 'doc.pdf', 'total_pages': 26, 'page': 10, 'page_label': '11'}, page_content='5 \\n \\npregnancy a “serious or life -threatening illness[  ]” (even in the absence of \\ncomplications) and conclude that mifepristone was “safe[ ]” and “provide[d] \\nmeaningful therapeutic benefit.” App.523 (citing 21 C.F.R. §§ 314.500-314.560). \\nDespite approving mifepristone, the FDA recognized the serious risk of “urgent \\nadverse event[s] associated with” the drug—including incomplete abortions or severe \\nbleeding requiring surgery. App.522. These risks increase later in pregnancy and in \\ncases of ectopic pregnancy. App.518 -25, 607 -09. The approval thus included \\nrequirements that the drug  be provided only “by or under  the supervision of a \\nphysician” with the ability to “assess the duration of pregnancy accurately,” “diagnose \\nectopic pregnancies,” “provide  [or arrange for]  surgical intervention in cases of \\nincomplete abortion or severe bleeding,” and “ assure patient access  to medical \\nfacilities equipped to provide blood transfusions and resuscitation.” App.523.'),\n",
       " Document(metadata={'producer': 'Aspose.PDF for .NET 19.8', 'creator': 'Aspose Ltd.', 'creationdate': '', 'moddate': '2023-04-06T10:11:19-04:00', 'source': 'doc.pdf', 'total_pages': 26, 'page': 10, 'page_label': '11'}, page_content='In 2007, Congress enacted the Food and Drug Administration Amendments \\nAct, Pub. L. No. 110-85, 121 Stat. 823 (2007). That law affected FDA approvals under \\nSubpart H. It directed the agency to adopt a Risk Evaluation and Mitigation Strategy \\n(REMS) for a new drug when “necessary to ensure that the benefits of the drug \\noutweigh the risks.” 21 U.S.C. § 355-1(a)(1)-(2). A REMS operates as a “drug safety \\nprogram” for medications that present  “serious safety concerns.” U.S. Food & Drug \\nAdmin., Risk Evaluation and Mitigation Strategies, http://bit.ly/3wKOwGp; see ibid. \\n(“While all medications have labeling that informs health care stakeholders about \\nmedication risks, only a few medications require a REMS.”).  Because of the serious \\nsafety concerns involved, the FDA established  a REMS program for mifepristone in \\n2011 with various “elements to assure safe use,” including  a requirement that the \\nCase 2:22-cv-00223-Z   Document 100   Filed 02/13/23    Page 11 of 26   PageID 3770'),\n",
       " Document(metadata={'producer': 'Aspose.PDF for .NET 19.8', 'creator': 'Aspose Ltd.', 'creationdate': '', 'moddate': '2023-04-06T10:11:19-04:00', 'source': 'doc.pdf', 'total_pages': 26, 'page': 11, 'page_label': '12'}, page_content='6 \\n \\ndrug be dispensed only in certain healthcare settings —clinics, medical offices, and \\nhospitals—under the supervision of a certified prescriber. App.731-32. \\nDespite the risks that the F DA itself recognized, over the next decade and \\nbeyond, the Obama and Biden Administrations expand ed mifepristone’s use and \\ndropped the safety measures erected around it. In 2016, the FDA extended the \\napproved use of mifepristone through 70 days ( 10 weeks) of pregnancy, allowed a \\nbroader set of persons to prescribe the drug, and reduced the number of required in-\\nperson patient visits from three to one. App.625-52, 732. But the agency maintained \\nthe requirement for at least one in -person visit so that the drug could be  dispensed \\nonly in clinics, medical offices, and hospitals under the supervision of a certified \\nhealthcare provider. App.733. \\nIn April 2021 , however, the FDA stopped enforcing th e in-person-dispensing'),\n",
       " Document(metadata={'producer': 'Aspose.PDF for .NET 19.8', 'creator': 'Aspose Ltd.', 'creationdate': '', 'moddate': '2023-04-06T10:11:19-04:00', 'source': 'doc.pdf', 'total_pages': 26, 'page': 11, 'page_label': '12'}, page_content='requirements. The FDA attributed that decision to “COVID -related risks” of in -\\nperson dispensing. App.715. The agency added that  it would “exercise enforcement \\ndiscretion during the COVID -19 [public -health emergency] with respect to the \\ndispensing of mifepristone through the mail.” Ibid. \\nIn December 2021, the FDA abandoned the in-person dispensing requirement \\naltogether. App.735. It made this decision independent of any COVID -related risks \\nand despite recognizing that “certain elements of the Mifepristone REMS Program”—\\nincluding “healthcare provider certification and dispensing of mifepristone to \\npatients with evidence or other documentation of safe use conditions” —“remain \\nnecessary to assure the safe use of mifepristone” and “ensure the benefits of \\nmifepristone outweigh the risks.” Ibid. On January 3, 2023, the FDA modified the \\nCase 2:22-cv-00223-Z   Document 100   Filed 02/13/23    Page 12 of 26   PageID 3771'),\n",
       " Document(metadata={'producer': 'Aspose.PDF for .NET 19.8', 'creator': 'Aspose Ltd.', 'creationdate': '', 'moddate': '2023-04-06T10:11:19-04:00', 'source': 'doc.pdf', 'total_pages': 26, 'page': 12, 'page_label': '13'}, page_content='7 \\n \\nmifepristone REMS program to make clear the agency’s position that the drug can  \\nnow be dispensed by certified prescribers or retail pharmacies “in-person or by mail.” \\nU.S. Food & Drug Admin. , Information about Mifepristone for Medical Termination \\nof Pregnancy Through Ten Weeks Gestation, http://bit.ly/3kHmh8Q. \\nWhile the FDA is authorized to evaluate new drugs for safety and effectiveness, \\nStates are primarily responsible for protecting the health and welfare of  their \\ncitizens. Many States, including several amici here, have thus enacted laws to \\nregulate abortion -inducing drugs and account  for their dangers.  Such laws can \\ninclude in-person examination and dispensing requirements, qualification  \\nrequirements for prescribers, mandates for informed consent, bans on distribution by \\nmailing, or some combination of these and other safety limitations. See infra. \\nThe lawsuit here seeks to enjoin the panoply of agency actions through which'),\n",
       " Document(metadata={'producer': 'Aspose.PDF for .NET 19.8', 'creator': 'Aspose Ltd.', 'creationdate': '', 'moddate': '2023-04-06T10:11:19-04:00', 'source': 'doc.pdf', 'total_pages': 26, 'page': 12, 'page_label': '13'}, page_content='the FDA has approved mifepristone, made it widely accessible, and discarded  \\nmeasures to manage the risks that it presents. \\nARGUMENT \\nThe Public Interest And Equities Support Injunctive Relief Against \\nThe FDA’s Actions On Mifepristone. \\nThe FDA’s challenged actions on mifepristone are deeply flawed. They defy \\nfederal law, flout the public-interest determinations that States have properly made, \\nand undermine the public interest in the enforcement of validly enacted state laws. \\nThese features strongly support injunctive relief against the agency’s actions. \\nCase 2:22-cv-00223-Z   Document 100   Filed 02/13/23    Page 13 of 26   PageID 3772'),\n",
       " Document(metadata={'producer': 'Aspose.PDF for .NET 19.8', 'creator': 'Aspose Ltd.', 'creationdate': '', 'moddate': '2023-04-06T10:11:19-04:00', 'source': 'doc.pdf', 'total_pages': 26, 'page': 13, 'page_label': '14'}, page_content='8 \\n \\nA. The Public Interest A nd Equities Weigh Strongly Against The \\nFDA’s Actions Because Those Actions Defy Federal Law. \\nPlaintiffs have demonstrated that the FDA’s actions on  mifepristone violate \\nthe Federal Food, Drug, and Cosmetic Act and related FDA regulations. See Pls.’ Mot. \\n14-23. Amici emphasize that the FDA’s actions defy both the agency’s regulations and \\nalso federal laws restricting the mailing of abortion  drugs. The public interest and \\nequities thus favor injunctive relief against the FDA’s actions. \\nAn agency action defies the public interest if it is unlawful. “There is generally \\nno public interest in the perpetuation of  unlawful agency action.” Texas v. Biden, \\n10 F.4th 538, 560 (5th Cir. 2021) ( brackets omitted); see also Wages & White Lion \\nInvs., LLC v. FDA , 16 F.4th 1130, 1143 (5th Cir. 2021). A llowing illegal actions by \\ngovernment agencies to stand “undermine[s]” th e public interest. Valley v. Rapides'),\n",
       " Document(metadata={'producer': 'Aspose.PDF for .NET 19.8', 'creator': 'Aspose Ltd.', 'creationdate': '', 'moddate': '2023-04-06T10:11:19-04:00', 'source': 'doc.pdf', 'total_pages': 26, 'page': 13, 'page_label': '14'}, page_content='Parish Sch. Bd., 118 F.3d 1047, 1056 (5th Cir. 1997). And  there is a s trong public \\ninterest “in having governmental agencies abide by the federal laws that govern their \\nexistence and operations.” Biden, 10 F.4th at 559. \\nThe FDA’s actions here have two basic legal flaws. \\nFirst, the FDA’s approval of mifepristone defies the agency’s own regulations. \\nAs noted, the agency relied on Subpart H  of its regulations  when it first  approved \\nmifepristone in 2000.  Subpart H permit s the FDA to approve  “certain new drug \\nproducts that have been studied for their safety and effectiveness in treating serious \\nor life -threatening illnesses and that provide meaningful therapeutic benefit to \\npatients over existing treatments.” 21 C.F.R. §  314.500 (emphasis added ). That \\nregulation doubly forecloses the FDA’s approval. Pregnancy is not an “illness[ ].” It is \\na natural state essential to perpetuating human life. And  typical early -stage'),\n",
       " Document(metadata={'producer': 'Aspose.PDF for .NET 19.8', 'creator': 'Aspose Ltd.', 'creationdate': '', 'moddate': '2023-04-06T10:11:19-04:00', 'source': 'doc.pdf', 'total_pages': 26, 'page': 13, 'page_label': '14'}, page_content='Case 2:22-cv-00223-Z   Document 100   Filed 02/13/23    Page 14 of 26   PageID 3773'),\n",
       " Document(metadata={'producer': 'Aspose.PDF for .NET 19.8', 'creator': 'Aspose Ltd.', 'creationdate': '', 'moddate': '2023-04-06T10:11:19-04:00', 'source': 'doc.pdf', 'total_pages': 26, 'page': 14, 'page_label': '15'}, page_content='9 \\n \\npregnancy without complications is not a condition that is “serious or life -\\nthreatening” or that requires the “treatment” mifepristone provides. \\nThe FDA  admits that pregnancy is not an illness  but claims that its \\nrulemaking “explained that Subpart H was available for serious or life -threatening \\n‘conditions,’ whether or not they were understood colloquially to be ‘illnesses.’”  Opp. \\n26, Dkt. 28 (quoting New Drug, Antibiotic, and Biological Drug Product Regulations; \\nAccelerated Approval, 57 Fed. Reg. 58942, 58946 (Dec. 11, 1992)). But an \\nunambiguous regulation—not the agency’s aspirational gloss on it —controls. As \\nexplained, that clear regulatory text defeats the FDA’s view and thus its approval of \\nmifepristone. At most,  the FDA’s argument suggests that it could have approved \\nmifepristone under Subpart H for  cases in which a pregnant woman’s life or health \\nis seriously in danger. That is not what it did —and the FDA still would have been'),\n",
       " Document(metadata={'producer': 'Aspose.PDF for .NET 19.8', 'creator': 'Aspose Ltd.', 'creationdate': '', 'moddate': '2023-04-06T10:11:19-04:00', 'source': 'doc.pdf', 'total_pages': 26, 'page': 14, 'page_label': '15'}, page_content='stuck with the reality that pregnancy is not an “illness[  ].” 21 C.F.R. §  314.500. \\nSubpart H does not permit the agency to greenlight elective abortions on a wide scale. \\nThe FDA also  claims that “any hypothetical error in the initial reliance on \\nSubpart H” has “been overtaken by congressional action.” Opp. 25, 26. This is not the \\nargument of an agency that is confident in the legality of its actions. And the \\nargument fails . When Congress established the REMS framework in 2007, it \\ntemporarily “deemed to have in effect an approved risk evaluation and mitigation \\nstrategy” any “drug that was [previously] approved” under Subpart H with “elements \\nto assure safe use,” Pub. L. No. 110-85, § 909(b)(1), 121 Stat. at 950, and required the \\nsponsors of such drugs to “submit to the [FDA] a proposed risk evaluation and \\nmitigation strategy” within 180 days, id. § 909(b)(3), 121 Stat. at 951. T his means \\nCase 2:22-cv-00223-Z   Document 100   Filed 02/13/23    Page 15 of 26   PageID 3774'),\n",
       " Document(metadata={'producer': 'Aspose.PDF for .NET 19.8', 'creator': 'Aspose Ltd.', 'creationdate': '', 'moddate': '2023-04-06T10:11:19-04:00', 'source': 'doc.pdf', 'total_pages': 26, 'page': 15, 'page_label': '16'}, page_content='10 \\n \\nthat Congress “deemed” preexisting safety requirements to be  sufficient REMS \\nprograms under the new 2007 law  until a new strategy was approved. That law did \\nnot affect whether a drug was properly authorized under Subpart H in the first place \\nto treat “serious or life- threatening illnesses.” 21 C.F.R. §  314.500. Congressional \\naction did not blot out the FDA’s defiance of its own regulation. \\nSecond, the FDA’s actions defy federal criminal law. Longstanding federal law \\nprovides that “[e]very article or thing designed, adapted, or intended for producing \\nabortion ... [i]s declared to be nonmailable matter and shall not be conveyed in the \\nmails or delivered from any post office or by any letter carrier.” 18  U.S.C. § 1461. A \\nrelated statute makes it a federal crime to “knowingly use[ ] any express company or \\nother common carrier” to ship “in interstate or foreign commerce  ... any drug,'),\n",
       " Document(metadata={'producer': 'Aspose.PDF for .NET 19.8', 'creator': 'Aspose Ltd.', 'creationdate': '', 'moddate': '2023-04-06T10:11:19-04:00', 'source': 'doc.pdf', 'total_pages': 26, 'page': 15, 'page_label': '16'}, page_content='medicine, article, or thing designed, adapted, or intended for producing abortion.” Id. \\n§ 1462. Violations of either statute are punishable by five or more years  of \\nimprisonment. Id. §§ 1461, 1462. These statutes prohibit using the mail to send or \\nreceive abortion-inducing drugs such as mifepristone.  The statutes’ restrictions on \\nabortion have remained in place—even as Congress has repealed other parts of these \\nlaws. See Pub. L. No. 91 -662, 84 Stat. 1973 (1971) (repealing certain restrictions on \\ncontraceptives from what is now section 1461). Congress has also considered  \\nnarrowing those statutes with a targeted intent requirement. See H.R. 13959, 95th \\nCong. §§ 6701(a)(1)(2), 6702(1)(C)(i) (1978); see also H.R. Rep. No. 29, pt. 3, at 42 \\n(1979) (explaining how bill would have “change[d] current law”). Those efforts failed. \\nA late-breaking memo from the Biden Justice Department, see  Application of the'),\n",
       " Document(metadata={'producer': 'Aspose.PDF for .NET 19.8', 'creator': 'Aspose Ltd.', 'creationdate': '', 'moddate': '2023-04-06T10:11:19-04:00', 'source': 'doc.pdf', 'total_pages': 26, 'page': 15, 'page_label': '16'}, page_content='Comstock Act to the Mailing of Prescription Drugs That Can Be Used for Abortions , \\nCase 2:22-cv-00223-Z   Document 100   Filed 02/13/23    Page 16 of 26   PageID 3775'),\n",
       " Document(metadata={'producer': 'Aspose.PDF for .NET 19.8', 'creator': 'Aspose Ltd.', 'creationdate': '', 'moddate': '2023-04-06T10:11:19-04:00', 'source': 'doc.pdf', 'total_pages': 26, 'page': 16, 'page_label': '17'}, page_content='11 \\n \\n46 Op. OLC __ (Dec. 23, 2022) , reads into section s 1461 and 1462 the very intent \\nrequirement that Congress refused to enact. But that memo cannot paper over clear \\nstatutory language or the historical reality that Congress has not altered the relevant \\ntext. \\nThe FDA’s challenged actions on mifepristone thus defy the agency’s \\nregulatory authority and longstanding federal criminal law. B ecause those actions \\nare at war with the law, the FDA cannot claim any public interest in enforcing them. \\nIndeed, e njoining the FDA to “abide by” federal law would promote the public \\ninterest, Biden, 10 F.4th at 559—and not issuing injunctive relief would “undermine” \\nthe public interest, Valley, 118 F.3d at 1056. \\nB. The FDA’s Actions Undermine The Public -Interest \\nDeterminations That S tates—Not Federal Agencies —Are \\nEntitled To Make. \\nThe FDA  was not responding to changed circumstances on  the safety of \\nmifepristone when it cast aside the longstanding requirements for in -person'),\n",
       " Document(metadata={'producer': 'Aspose.PDF for .NET 19.8', 'creator': 'Aspose Ltd.', 'creationdate': '', 'moddate': '2023-04-06T10:11:19-04:00', 'source': 'doc.pdf', 'total_pages': 26, 'page': 16, 'page_label': '17'}, page_content='dispensing. Nor was the agency following any legislative mandate from Congress  \\nwhen promoting a new mail-order abortion regime. Rather, the agency was acting at \\nthe behest of the Biden Administration and its allies who demanded political action \\nafter Dobbs. After that decision the Administration swiftly declared that duly enacted \\nstate laws on abortion will have “devastating implications” for “public health” and \\nthat the federal government would act to “expand access to abortion care, including \\nmedication abortion,” Protecting Access to Reproductive H ealthcare Services, Exec. \\nOrder No. 14076, 87 Fed. Reg. 42053, 42053 (2022) —despite considered judgments \\nby elected representatives on how to address the health interests at stake. But, as \\nCase 2:22-cv-00223-Z   Document 100   Filed 02/13/23    Page 17 of 26   PageID 3776'),\n",
       " Document(metadata={'producer': 'Aspose.PDF for .NET 19.8', 'creator': 'Aspose Ltd.', 'creationdate': '', 'moddate': '2023-04-06T10:11:19-04:00', 'source': 'doc.pdf', 'total_pages': 26, 'page': 17, 'page_label': '18'}, page_content='12 \\n \\nthe Supreme Court recognized, it is  the responsibility of elected r epresentatives in \\nStates—not unelected bureaucrats in federal agencies—to strike the balance between \\n“competing interests” on abortion. Dobbs, 142 S. Ct. at 2268. The FDA’s actions seek \\nto override the balance properly struck by States. If allowed to stand, th ose actions \\nwill harm the public interest. \\nUnder our Constitution,  States have the primary authority to  legislate to \\nprotect the health, safety, and welfare of their citizens. Hillsborough Cnty., Fla. v. \\nAutomated Med. Laboratories, Inc. , 471 U.S.  707, 719 (1985)  (“[T]he regulation of \\nhealth and safety matters is primarily, and historically, a matter of local concern.”); \\nMetro. Life Ins. Co. v. Massachusetts, 471 U.S. 724, 756 (1985) (“The States \\ntraditionally have had great latitude under their po lice powers to legislate as to the \\nprotection of the lives, limbs, health, comfort, and quiet of all persons.”) (internal'),\n",
       " Document(metadata={'producer': 'Aspose.PDF for .NET 19.8', 'creator': 'Aspose Ltd.', 'creationdate': '', 'moddate': '2023-04-06T10:11:19-04:00', 'source': 'doc.pdf', 'total_pages': 26, 'page': 17, 'page_label': '18'}, page_content='quotation marks omitted). This power includes regulating the medical profession and \\nsetting standards of ca re. Gonzales v. Oregon, 546 U.S. 243, 270 (2006) (“[A] \\nfunctioning medical profession [is] regulated under the States’ police powers.”). \\nUsing this authority, States have adopted varying approaches to abortion that \\nreflect the policy decisions of their constituent citizens. State laws restricting abortion \\nubiquitously include provisions to protect a woman’s life. E.g., Miss. Code Ann. § 41-\\n41-45(2). They commonly include exceptions in other circumstances  too. E.g., ibid. \\n(abortion permitted “where the pregnancy was caused by rape”).  Many States have \\npassed laws that address the particular risks presented by chemical abortions. Such \\nlaws recognize, for example, that “abortion -inducing drugs” “present[  ] significant \\nmedical risks to women ” such as “ uterine hemorrhage, viral infections, pelvic'),\n",
       " Document(metadata={'producer': 'Aspose.PDF for .NET 19.8', 'creator': 'Aspose Ltd.', 'creationdate': '', 'moddate': '2023-04-06T10:11:19-04:00', 'source': 'doc.pdf', 'total_pages': 26, 'page': 17, 'page_label': '18'}, page_content='Case 2:22-cv-00223-Z   Document 100   Filed 02/13/23    Page 18 of 26   PageID 3777'),\n",
       " Document(metadata={'producer': 'Aspose.PDF for .NET 19.8', 'creator': 'Aspose Ltd.', 'creationdate': '', 'moddate': '2023-04-06T10:11:19-04:00', 'source': 'doc.pdf', 'total_pages': 26, 'page': 18, 'page_label': '19'}, page_content='13 \\n \\ninflammatory disease, severe bacterial infection and death ,” id. § 41-41-103(a); “are \\nassociated with an increased risk of complications relative to surgical abortion”  that \\nheightens “with increasing gestational  age,” id. § 41-41-103(b); and “are \\ncontraindicated in ectopic pregnancies,” id. § 41-41-107(2). Given those risks, States \\nhave used their regulatory authority to direct (for example) that only physicians may \\nprovide such drugs, that a physician may do so only after “physically examin[ing] the \\nwoman and document[ing] ... the gestational age and intrauterine location of the \\npregnancy,” and that abortion drugs “must be administered in the same room and in \\nthe physical presence of the physician,”  ensuring that  the pregnant woman is \\ninformed of risks and monitored for complications. Id . §§ 41-41-107(2), (3); see, e.g., \\nInd. Code Ann. § 16-34-2-1 (requiring in-person exam and dispensing); La. Stat. Ann.'),\n",
       " Document(metadata={'producer': 'Aspose.PDF for .NET 19.8', 'creator': 'Aspose Ltd.', 'creationdate': '', 'moddate': '2023-04-06T10:11:19-04:00', 'source': 'doc.pdf', 'total_pages': 26, 'page': 18, 'page_label': '19'}, page_content='§ 40:1061.11 (requiring in- person dispensing); Okla. Stat. Ann. tit. 63, §  1-729.1 \\n(requiring in -person dispen sing); Tex. Health & Safety Code Ann. § 171.063(b-1) \\n(prohibiting shipment of abortion-inducing drug s “by courier, delivery, or mail \\nservice”). Last, like all methods of elective abortion, elective chemical abortion is \\ngenerally unlawful in numerous States. E.g., Miss. Code. Ann. § 41-41-45(2) (abortion \\nunlawful except “where necessary for the preservation of the mother’s life or where \\nthe pregnancy was caused by rape”). \\nIn the actions at issue here, the FDA has sought to impose a federal mail-order \\nabortion regime that disregards the protections for life, health, and safety adopted by \\nnumerous States’ elected representatives. But the authority to “ regulat[e] or \\nprohibit[ ] abortion” belongs to “the citizens of each State.” Dobbs, 142 S. Ct. at 2284. \\nThe FDA may  determine only  whether mifepristone is “safe and effective”  for its'),\n",
       " Document(metadata={'producer': 'Aspose.PDF for .NET 19.8', 'creator': 'Aspose Ltd.', 'creationdate': '', 'moddate': '2023-04-06T10:11:19-04:00', 'source': 'doc.pdf', 'total_pages': 26, 'page': 18, 'page_label': '19'}, page_content='Case 2:22-cv-00223-Z   Document 100   Filed 02/13/23    Page 19 of 26   PageID 3778'),\n",
       " Document(metadata={'producer': 'Aspose.PDF for .NET 19.8', 'creator': 'Aspose Ltd.', 'creationdate': '', 'moddate': '2023-04-06T10:11:19-04:00', 'source': 'doc.pdf', 'total_pages': 26, 'page': 19, 'page_label': '20'}, page_content='14 \\n \\nintended use. 21 C.F.R. §§ 314.2, 314.500. The agency has no authority to make broad \\npolicy judgments balanc ing the people’s  interests in “prenatal life at all stages of \\ndevelopment,” “maternal health and safety,” and “the integrity of the medical \\nprofession.” Dobbs, 142 S. Ct. at 2284. L egislatures have that authority , and state \\nlegislatures have balanced these interests and others in laws that reflect the views of \\nconstituent citizens. Insofar as the federal legislature has weighed in at all in this \\narea, it has been to condemn what the FDA has done. Congress has expressly declared \\nthat drugs  “designed, adapted, or intended fo r producing abortion  ... shall not be \\nconveyed in the mails.” 18 U.S.C. § 1461. \\nState laws on chemical abortion thus account for the public interests at issue—\\nand they do so with the benefit of democratic legitimacy  (and legal authority) . The \\nFDA’s actions can make no such claim.  By obstructing the  judgments of elected'),\n",
       " Document(metadata={'producer': 'Aspose.PDF for .NET 19.8', 'creator': 'Aspose Ltd.', 'creationdate': '', 'moddate': '2023-04-06T10:11:19-04:00', 'source': 'doc.pdf', 'total_pages': 26, 'page': 19, 'page_label': '20'}, page_content='representatives, the agency has undermined the public interest. Given the absence of \\nauthority for the FDA to establish a mail-order abortion regime—and States’ retained \\nauthority to act, U.S. Const. amend. X —the public interest strongly weighs against \\nthe FDA’s effort to override duly enacted state laws. \\nC. The FDA’s Actions Harm The Public Interest By Undermining \\nStates’ Ability To Protect Their Citizens And Forcing States To \\nDivert Scarce Resources To Investigating And Prosecuting \\nViolations Of Their Laws. \\nEven if the FDA’s approval of mifepristone harmonized with the agency’s own \\nregulations and federal criminal law , those actions would not simply displace state \\nlaws regulating abortion. The amici States are entitled to enforce their duly enacted \\nCase 2:22-cv-00223-Z   Document 100   Filed 02/13/23    Page 20 of 26   PageID 3779'),\n",
       " Document(metadata={'producer': 'Aspose.PDF for .NET 19.8', 'creator': 'Aspose Ltd.', 'creationdate': '', 'moddate': '2023-04-06T10:11:19-04:00', 'source': 'doc.pdf', 'total_pages': 26, 'page': 20, 'page_label': '21'}, page_content='15 \\n \\nlaws regulating chemical abortion in the interests of life, health, and safety.  Yet the \\nFDA’s actions will undercut those efforts and thus harm the public interest. \\nThe Biden Administration claims  that it has the power  to broadly make \\nabortion drugs accessible despite contrary determinations by States and despite \\nregulations that States may have enacted to protect life, health, and safety in the use \\nof those drugs. See Memorandum on Further Efforts to Protect Access to Reproductive \\nHealthcare Services, The White  House (Jan. 22, 2023), http://bit.ly/3kEZrPl (Biden \\nMemorandum). That claim is wrong. No federal law manifests Congress’s “clear and \\nmanifest purpose” to displace state law  in this context . Rice v. Santa Fe Elevator \\nCorp., 331 U.S. 218, 230 (1947) ; see al so ibid.  (Courts should  “start with the \\nassumption that the historic police powers of the States [are] not to be superseded ...'),\n",
       " Document(metadata={'producer': 'Aspose.PDF for .NET 19.8', 'creator': 'Aspose Ltd.', 'creationdate': '', 'moddate': '2023-04-06T10:11:19-04:00', 'source': 'doc.pdf', 'total_pages': 26, 'page': 20, 'page_label': '21'}, page_content='unless that was the clear and manifest purpose of Congress.”). The need for a clear \\nstatement from Congress “is heightened ” where, as here,  an “ administrative \\ninterpretation alters the federal -state framework by permitting federal \\nencroachment upon a traditional state power.”  Solid Waste Agency of N. Cook Cnty. \\nv. U.S. Army Corps of Engineers, 531 U.S. 159, 173 (2001); see also Metro. Life, 471 \\nU.S. at 740 (Courts “must presume that Congress did not intend to pre-empt areas of \\ntraditional state regulation.”). As  discussed above, the relevant federal statutes \\ncriminalize sending or receiv ing abortion drugs by mail  and thus affirmatively \\ncondemn the FDA’s actions . Supra Part B. States are thus entitled to enforce their \\nlaws—protecting life, health, and safety—against persons and businesses involved in \\ndistributing or receiving abortion drugs by mail. \\nCase 2:22-cv-00223-Z   Document 100   Filed 02/13/23    Page 21 of 26   PageID 3780'),\n",
       " Document(metadata={'producer': 'Aspose.PDF for .NET 19.8', 'creator': 'Aspose Ltd.', 'creationdate': '', 'moddate': '2023-04-06T10:11:19-04:00', 'source': 'doc.pdf', 'total_pages': 26, 'page': 21, 'page_label': '22'}, page_content='16 \\n \\nYet the FDA’s actions will undermine  States’ laws, undercut their efforts to \\nenforce them, and—as a result—harm the public interest. \\nFirst, the FDA’s actions will undermine States’ ability to protect their citizens. \\nThose actions will lead to the w idespread shipment and use of abortion -inducing \\ndrugs. See Abortion Pills Can Now Be Offered at Retail Pharmacies, F.D.A. Says, \\nN.Y. Times (Jan. 3, 2023), http://bit.ly/3WFFxB0. That widespread use will often \\noccur in defiance of state laws that protect li fe, health, and safety. See Retail \\nPharmacies Can Now Offer Abortion Pill, FDA Says, Politico ( Jan. 3, 2023) , \\nhttp://bit.ly/3wCPl3V (“Telemedicine and mail delivery of the pills has allowed \\npatients to circumvent state bans.”). Indeed, the whole point of t he Administration’s \\nrecent actions is to encourage and achieve evasion of those state laws. Such evasion—\\nparticularly when coupled with the FDA’s abandonment of key protections on'),\n",
       " Document(metadata={'producer': 'Aspose.PDF for .NET 19.8', 'creator': 'Aspose Ltd.', 'creationdate': '', 'moddate': '2023-04-06T10:11:19-04:00', 'source': 'doc.pdf', 'total_pages': 26, 'page': 21, 'page_label': '22'}, page_content='mifepristone’s use—will harm the citizens of the amici States. That harm def ies the \\npublic interest. \\nSecond, the FDA’s actions will force States to devote scarce resources to \\ninvestigating and prosecuting violations of their laws. As the FDA continues a \\ncampaign that will harm amici’s citizens, amici will not sit by. Amici will enforce their \\nlaws to protect their citizens. But the FDA’s  actions will make that task hard. The \\nFDA—and the broader Administration—is encouraging lawbreaking on a mass scale. \\nThe new regime will require States to divert scar ce resources to investigate and \\nprosecute violations of their  laws to vindicate the public interests th at those laws  \\nrepresent. Cf. Maine v. Taylor, 477 U.S. 131, 137 (1986) (“[A] State clearly has a \\nlegitimate interest in the continued enforceability of its own statutes. ”); Texas v. \\nCase 2:22-cv-00223-Z   Document 100   Filed 02/13/23    Page 22 of 26   PageID 3781'),\n",
       " Document(metadata={'producer': 'Aspose.PDF for .NET 19.8', 'creator': 'Aspose Ltd.', 'creationdate': '', 'moddate': '2023-04-06T10:11:19-04:00', 'source': 'doc.pdf', 'total_pages': 26, 'page': 22, 'page_label': '23'}, page_content='17 \\n \\nUnited States, 787 F.3d 733, 749 (5th Cir. 2015) (“[S]tates  have a sovereign interest \\nin the power to create and enforce a legal code.”) (internal quotation marks omitted). \\nSuch enforcement  will be  especially hard in these circumstances , given the \\nAdministration’s position that it will not enforce existing federal  restrictions on \\nabortion drugs, will treat state laws as “barriers” to be avoided, and can be expected \\nto stymie and defy States’ efforts to enforce their own laws . Biden Memorandum; cf. \\nRemarks of President Joe Biden —State of the Union Address as Prepared for \\nDelivery, The White House (Feb. 7, 2023), http://bit.ly/3RHeAfn  (reaffirming \\nopposition to States that are protecting life and health  after Dobbs). All of this  \\nsubverts the public interest and the equities represented by validly enacted state \\nlaws. It strongly supports injunctive relief. \\n* * * \\nThe serious nature of the FDA’s unlawful actions, and the agency’s decision to'),\n",
       " Document(metadata={'producer': 'Aspose.PDF for .NET 19.8', 'creator': 'Aspose Ltd.', 'creationdate': '', 'moddate': '2023-04-06T10:11:19-04:00', 'source': 'doc.pdf', 'total_pages': 26, 'page': 22, 'page_label': '23'}, page_content='invite lawbreaking by private parties and government actors across the country , \\nfavors broad relief. The FDA and the Administration as a whole have no intention to \\nrespect the Constitution, the Supreme Court, or the democratic process when it comes \\nto abortion. This Court’s decisive action is warranted. \\n  \\nCase 2:22-cv-00223-Z   Document 100   Filed 02/13/23    Page 23 of 26   PageID 3782'),\n",
       " Document(metadata={'producer': 'Aspose.PDF for .NET 19.8', 'creator': 'Aspose Ltd.', 'creationdate': '', 'moddate': '2023-04-06T10:11:19-04:00', 'source': 'doc.pdf', 'total_pages': 26, 'page': 23, 'page_label': '24'}, page_content='18 \\n \\nCONCLUSION \\nThe public interest and equities support relief against the FDA’s actions. \\nDated: February 13, 2023 \\n       Respectfully submitted, \\n \\n \\nLYNN FITCH \\nAttorney General \\n \\n/s/ Justin L. Matheny \\nSCOTT G. STEWART (MS Bar No. 106359) \\n  Solicitor General \\nJUSTIN L. MATHENY (MS Bar No. \\n100754) \\n  Deputy Solicitor General  \\nMISSISSIPPI ATTORNEY \\nGENERAL’S OFFICE \\nP.O. Box 220 \\nJackson, MS 39205-0220 \\nTelephone: (601) 359-3680 \\nFax: (601) 359-2003 \\njustin.matheny@ago.ms.gov  \\nCounsel for Amici Curiae \\n \\n  \\n \\n \\n \\n \\n \\n \\n \\n \\n \\n \\n \\nCase 2:22-cv-00223-Z   Document 100   Filed 02/13/23    Page 24 of 26   PageID 3783'),\n",
       " Document(metadata={'producer': 'Aspose.PDF for .NET 19.8', 'creator': 'Aspose Ltd.', 'creationdate': '', 'moddate': '2023-04-06T10:11:19-04:00', 'source': 'doc.pdf', 'total_pages': 26, 'page': 24, 'page_label': '25'}, page_content='19 \\n \\nOn behalf of: \\nSteve Marshall \\nAttorney General \\nState of Alabama \\nTreg Taylor \\nAttorney General  \\nState of Alaska  \\nTim Griffin \\nAttorney General \\nState of Arkansas \\nAshley Moody \\nAttorney General \\nState of Florida  \\nChristopher M. Carr \\nAttorney General \\nState of Georgia \\nRaúl R. Labrador \\nAttorney General  \\nState of Idaho \\nTheodore E. Rokita \\nAttorney General \\nState of Indiana \\nBrenna Bird \\nAttorney General \\nState of Iowa \\nKris W. Kobach \\nAttorney General \\nState of Kansas \\nDaniel Cameron \\nAttorney General \\nCommonwealth of Kentucky \\nJeff Landry \\nAttorney General \\nState of Louisiana \\nAustin Knudsen \\nAttorney General \\nState of Montana \\nMichael T. Hilgers \\nAttorney General \\nState of Nebraska  \\nDave Yost \\nAttorney General \\nState of Ohio \\nGentner F. Drummond \\nAttorney General \\nState of Oklahoma  \\nAlan Wilson \\nAttorney General \\nState of South Carolina \\nMarty J. Jackley \\nAttorney General \\nState of South Dakota \\nJonathan Skrmetti \\nAttorney General \\nState of Tennessee \\nKen Paxton'),\n",
       " Document(metadata={'producer': 'Aspose.PDF for .NET 19.8', 'creator': 'Aspose Ltd.', 'creationdate': '', 'moddate': '2023-04-06T10:11:19-04:00', 'source': 'doc.pdf', 'total_pages': 26, 'page': 24, 'page_label': '25'}, page_content='Ken Paxton \\nAttorney General \\nState of Texas  \\nSean D. Reyes \\nAttorney General \\nState of Utah \\nBridget Hill \\nAttorney General \\nState of Wyoming \\n \\n \\n  \\nCase 2:22-cv-00223-Z   Document 100   Filed 02/13/23    Page 25 of 26   PageID 3784'),\n",
       " Document(metadata={'producer': 'Aspose.PDF for .NET 19.8', 'creator': 'Aspose Ltd.', 'creationdate': '', 'moddate': '2023-04-06T10:11:19-04:00', 'source': 'doc.pdf', 'total_pages': 26, 'page': 25, 'page_label': '26'}, page_content='20 \\n \\nCERTIFICATE OF SERVICE \\nI hereby certify that the foregoing brief has been served on all counsel of record \\nby ECF. \\nDated: February 13, 2023 \\n/s/ Justin L. Matheny \\nJustin L. Matheny \\nCounsel for Amici Curiae \\n \\n \\nCase 2:22-cv-00223-Z   Document 100   Filed 02/13/23    Page 26 of 26   PageID 3785')]"
      ]
     },
     "execution_count": 63,
     "metadata": {},
     "output_type": "execute_result"
    }
   ],
   "source": [
    "documents = chunks\n",
    "documents"
   ]
  },
  {
   "cell_type": "code",
   "execution_count": 64,
   "id": "2462acaf",
   "metadata": {},
   "outputs": [],
   "source": [
    "from langchain_huggingface import HuggingFaceEmbeddings\n",
    "from langchain_community.vectorstores import FAISS\n",
    "embeddings = HuggingFaceEmbeddings()\n",
    "\n",
    "db = FAISS.from_documents(documents, embeddings)\n",
    "\n"
   ]
  },
  {
   "cell_type": "code",
   "execution_count": 65,
   "id": "1d732a51",
   "metadata": {},
   "outputs": [
    {
     "data": {
      "text/plain": [
       "<langchain_community.vectorstores.faiss.FAISS at 0x284c2569780>"
      ]
     },
     "execution_count": 65,
     "metadata": {},
     "output_type": "execute_result"
    }
   ],
   "source": [
    "db"
   ]
  },
  {
   "cell_type": "code",
   "execution_count": 66,
   "id": "ca237eb1",
   "metadata": {},
   "outputs": [
    {
     "data": {
      "text/plain": [
       "'1 \\n \\nINTRODUCTION, INTEREST OF AMICI CURIAE,  \\nAND SUMMARY OF ARGUMENT \\nLast year, the Supreme Court held that abortion is a matter that is entrusted \\nto “the people and their elected representatives” to address. Dobbs v. Jackson \\nWomen’s Health Organization , 142 S. Ct. 2228, 2284 (2022). Overruling precedent \\nthat took that auth ority away from the people, the Court returned the issue of \\n“regulating or prohibiting abortion” to “the citizens of each State.” Ibid.  States may \\nthus pursue their “legitimate interests” in protecting unborn life, women’s health, \\nand the medical profession’s integrity by regulating or restricting abortion. Ibid. \\nAmici curiae are the States of Mississippi, Alabama, Alaska, Arkansas, \\nFlorida, Georgia, Idaho, Indiana, Iowa, Kansas, Kentucky, Louisiana, Montana, \\nNebraska, Ohio, Oklahoma, South Carolina, South Dakota, Tennessee, Texas, Utah, \\nand Wyoming. Like other States, amici have, consistent with the Constitution and'"
      ]
     },
     "execution_count": 66,
     "metadata": {},
     "output_type": "execute_result"
    }
   ],
   "source": [
    "query=\"Amici curiae are the States of Mississippi, Alabama, Alaska \"\n",
    "result=db.similarity_search(query)\n",
    "result[0].page_content"
   ]
  },
  {
   "cell_type": "code",
   "execution_count": null,
   "id": "e85635e9",
   "metadata": {},
   "outputs": [],
   "source": [
    "from langchain_core.prompts import ChatPromptTemplate\n",
    "prompt = ChatPromptTemplate.from_template(\"\"\"\n",
    "You are a legal analyst. Using ONLY the provided context, produce EXACTLY 10 pivotal items for the case.\n",
    "For EACH item, provide:\n",
    "- A concise title\n",
    "- Arguments FOR\n",
    "- Arguments AGAINST\n",
    "- Precise citation(s) with page numbers from the context\n",
    "Rules:\n",
    "- Cite only pages/lines present in the retrieved context.\n",
    "- Do not invent facts, if a side is implied, say so briefly and cite the closest support.\n",
    "\n",
    "<context>\n",
    "{context}\n",
    "</context>\n",
    "Question: {input}\"\"\")"
   ]
  },
  {
   "cell_type": "code",
   "execution_count": 75,
   "id": "a929eedb",
   "metadata": {},
   "outputs": [
    {
     "data": {
      "text/plain": [
       "VectorStoreRetriever(tags=['FAISS', 'HuggingFaceEmbeddings'], vectorstore=<langchain_community.vectorstores.faiss.FAISS object at 0x00000284C2569780>, search_kwargs={})"
      ]
     },
     "execution_count": 75,
     "metadata": {},
     "output_type": "execute_result"
    }
   ],
   "source": [
    "retriever=db.as_retriever()\n",
    "retriever"
   ]
  },
  {
   "cell_type": "code",
   "execution_count": null,
   "id": "882f3755",
   "metadata": {},
   "outputs": [
    {
     "name": "stdout",
     "output_type": "stream",
     "text": [
      "Groq client initialized successfully!\n"
     ]
    }
   ],
   "source": [
    "from groq import Groq\n",
    "import os\n",
    "os.environ[\"GROQ_API_KEY\"] = \"GROQ API KEY\"\n",
    "client = Groq(api_key=os.environ.get(\"GROQ_API_KEY\"))\n",
    "print(\"Groq client initialized successfully!\")\n"
   ]
  },
  {
   "cell_type": "code",
   "execution_count": 77,
   "id": "2f17dc69",
   "metadata": {},
   "outputs": [
    {
     "name": "stdout",
     "output_type": "stream",
     "text": [
      "Groq LLM initialized successfully!\n"
     ]
    }
   ],
   "source": [
    "from langchain_core.language_models.llms import LLM\n",
    "from langchain_core.callbacks.manager import CallbackManagerForLLMRun\n",
    "from typing import Any, List, Optional\n",
    "import json\n",
    "\n",
    "class GroqLLM(LLM):\n",
    "    \"\"\"Custom Groq LLM wrapper for LangChain\"\"\"\n",
    "    \n",
    "    model_name: str = \"llama-3.3-70b-versatile\"\n",
    "    temperature: float = 0.1\n",
    "    max_tokens: int = 2048\n",
    "    \n",
    "    def _call(\n",
    "        self,\n",
    "        prompt: str,\n",
    "        stop: Optional[List[str]] = None,\n",
    "        run_manager: Optional[CallbackManagerForLLMRun] = None,\n",
    "        **kwargs: Any,\n",
    "    ) -> str:\n",
    "        \"\"\"Call the Groq API\"\"\"\n",
    "        try:\n",
    "            response = client.chat.completions.create(\n",
    "                model=self.model_name,\n",
    "                messages=[{\"role\": \"user\", \"content\": prompt}],\n",
    "                temperature=self.temperature,\n",
    "                max_tokens=self.max_tokens,\n",
    "                stop=stop,\n",
    "            )\n",
    "            return response.choices[0].message.content\n",
    "        except Exception as e:\n",
    "            return f\"Error calling Groq API: {str(e)}\"\n",
    "    \n",
    "    @property\n",
    "    def _llm_type(self) -> str:\n",
    "        return \"groq\"\n",
    "\n",
    "\n",
    "llm = GroqLLM(model_name=\"llama-3.3-70b-versatile\", temperature=0.1)\n",
    "print(\"Groq LLM initialized successfully!\")\n"
   ]
  },
  {
   "cell_type": "code",
   "execution_count": 71,
   "id": "a49106e5",
   "metadata": {},
   "outputs": [
    {
     "name": "stdout",
     "output_type": "stream",
     "text": [
      "Test response: The capital of France is Paris.\n"
     ]
    }
   ],
   "source": [
    "# Test query to verify LLM is working\n",
    "test_response = llm(\"What is the capital of France?\")\n",
    "print(\"Test response:\", test_response)\n"
   ]
  },
  {
   "cell_type": "code",
   "execution_count": 78,
   "id": "a7ace2b0",
   "metadata": {},
   "outputs": [
    {
     "name": "stdout",
     "output_type": "stream",
     "text": [
      "Document chain created with Groq LLM!\n",
      "Retrieval chain created with Groq LLM!\n"
     ]
    }
   ],
   "source": [
    "from langchain.chains.combine_documents import create_stuff_documents_chain\n",
    "from langchain.chains import create_retrieval_chain\n",
    "\n",
    "# document chain with Groq LLM\n",
    "document_chain = create_stuff_documents_chain(llm, prompt)\n",
    "print(\"Document chain created with Groq LLM!\")\n",
    "\n",
    "# retrieval chain with Groq LLM\n",
    "retrieval_chain = create_retrieval_chain(retriever, document_chain)\n",
    "print(\"Retrieval chain created with Groq LLM!\")\n"
   ]
  },
  {
   "cell_type": "code",
   "execution_count": 79,
   "id": "23036d24",
   "metadata": {},
   "outputs": [
    {
     "name": "stdout",
     "output_type": "stream",
     "text": [
      "Groq-powered response:\n",
      "Here are the top 10 pivotal items for the case:\n",
      "\n",
      "1. **Federal Authority Over FDA Actions**\n",
      "\t* Arguments FOR: The FDA's actions are subject to federal authority and oversight (Page 6).\n",
      "\t* Arguments AGAINST: Limited information is provided on the specific federal authority in question (No direct citation).\n",
      "\t* Citation: Page 6 of 26, PageID 3765\n",
      "\n",
      "2. **State Attorneys General Involvement**\n",
      "\t* Arguments FOR: Multiple state Attorneys General are involved, indicating a strong state interest (Pages 6-7).\n",
      "\t* Arguments AGAINST: The involvement of state Attorneys General may not be sufficient to establish standing (No direct citation).\n",
      "\t* Citation: Pages 6-7 of 26, PageID 3765\n",
      "\n",
      "3. **Public Interest and Equities**\n",
      "\t* Arguments FOR: The public interest and equities support relief against the FDA's actions (Page 24).\n",
      "\t* Arguments AGAINST: Limited information is provided on the specific public interest and equities in question (No direct citation).\n",
      "\t* Citation: Page 24 of 26, PageID 3783\n",
      "\n",
      "4. **Dobbs v. Jackson Women’s Health Organization Precedent**\n",
      "\t* Arguments FOR: The Dobbs decision may be relevant to the case, potentially supporting the plaintiffs' position (Pages 1, 2, 11, 12, 13, 14, 17).\n",
      "\t* Arguments AGAINST: The Dobbs decision may not be directly applicable to the case at hand (No direct citation).\n",
      "\t* Citation: Pages 1, 2, 11, 12, 13, 14, 17 of the TABLE OF AUTHORITIES\n",
      "\n",
      "5. **Gonzales v. Oregon Precedent**\n",
      "\t* Arguments FOR: The Gonzales decision may be relevant to the case, potentially supporting the defendants' position (Page 12).\n",
      "\t* Arguments AGAINST: The Gonzales decision may not be directly applicable to the case at hand (No direct citation).\n",
      "\t* Citation: Page 12 of the TABLE OF AUTHORITIES\n",
      "\n",
      "6. **Hillsborough Cnty., Fla. v. Automated Med. Laboratories, Inc. Precedent**\n",
      "\t* Arguments FOR: The Hillsborough decision may be relevant to the case, potentially supporting the plaintiffs' position (Page 12).\n",
      "\t* Arguments AGAINST: The Hillsborough decision may not be directly applicable to the case at hand (No direct citation).\n",
      "\t* Citation: Page 12 of the TABLE OF AUTHORITIES\n",
      "\n",
      "7. **Maine v. Taylor Precedent**\n",
      "\t* Arguments FOR: The Maine decision may be relevant to the case, potentially supporting the defendants' position (Page 16).\n",
      "\t* Arguments AGAINST: The Maine decision may not be directly applicable to the case at hand (No direct citation).\n",
      "\t* Citation: Page 16 of the TABLE OF AUTHORITIES\n",
      "\n",
      "8. **Metro. Life Ins. Co. v. Massachusetts Precedent**\n",
      "\t* Arguments FOR: The Metro. Life decision may be relevant to the case, potentially supporting the plaintiffs' position (Pages 12, 15).\n",
      "\t* Arguments AGAINST: The Metro. Life decision may not be directly applicable to the case at hand (No direct citation).\n",
      "\t* Citation: Pages 12, 15 of the TABLE OF AUTHORITIES\n",
      "\n",
      "9. **Rice v. Santa Fe Elevator Corp. Precedent**\n",
      "\t* Arguments FOR: The Rice decision may be relevant to the case, potentially supporting the defendants' position (Page 15).\n",
      "\t* Arguments AGAINST: The Rice decision may not be directly applicable to the case at hand (No direct citation).\n",
      "\t* Citation: Page 15 of the TABLE OF AUTHORITIES\n",
      "\n",
      "10. **Standing of State Attorneys General**\n",
      "\t* Arguments FOR: The state Attorneys General may have standing to bring the case, given their involvement (Pages 6-7).\n",
      "\t* Arguments AGAINST: The standing of state Attorneys General may be challenged, potentially weakening their position (No direct citation).\n",
      "\t* Citation: Pages 6-7 of 26, PageID 3765\n"
     ]
    }
   ],
   "source": [
    "response = retrieval_chain.invoke({\"input\":\"identify the top 10 key items that are pivotal to the case. These items must encompass both the arguments for and against, providing a balanced perspective that is crucial for strategic planning.\"})\n",
    "print(\"Groq-powered response:\")\n",
    "print(response['answer'])\n"
   ]
  }
 ],
 "metadata": {
  "kernelspec": {
   "display_name": "Python 3",
   "language": "python",
   "name": "python3"
  },
  "language_info": {
   "codemirror_mode": {
    "name": "ipython",
    "version": 3
   },
   "file_extension": ".py",
   "mimetype": "text/x-python",
   "name": "python",
   "nbconvert_exporter": "python",
   "pygments_lexer": "ipython3",
   "version": "3.10.7"
  }
 },
 "nbformat": 4,
 "nbformat_minor": 5
}
